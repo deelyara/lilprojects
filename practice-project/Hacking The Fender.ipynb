{
 "cells": [
  {
   "cell_type": "code",
   "execution_count": 1,
   "id": "5c9a2f9f",
   "metadata": {},
   "outputs": [],
   "source": [
    "#import the CSV and JSON\n",
    "\n",
    "import csv\n",
    "import json\n"
   ]
  },
  {
   "cell_type": "code",
   "execution_count": 2,
   "id": "7ff7e372",
   "metadata": {},
   "outputs": [],
   "source": [
    "#create a list of users whose passwords have been compromised\n",
    "\n",
    "compromised_users = []"
   ]
  },
  {
   "cell_type": "code",
   "execution_count": null,
   "id": "8ca61eba",
   "metadata": {},
   "outputs": [],
   "source": [
    "#open up the file itself and pass the password_file object holder to our CSV reader for parsing\n",
    "\n",
    "with open('passwords.csv') as password_file:\n",
    "  password_csv = csv.DictReader(password_file)\n",
    "  for password_row in password_csv:\n",
    "    compromised_users.append(password_row['Username'])"
   ]
  },
  {
   "cell_type": "code",
   "execution_count": null,
   "id": "6976d3cb",
   "metadata": {},
   "outputs": [],
   "source": [
    "#iterate through each of the lines in the CSV\n",
    "\n",
    "with open('compromised_users.text', 'w') as compromised_user_file:\n",
    "  for compromised_user in compromised_users:\n",
    "    compromised_user_file.write(compromised_user)"
   ]
  },
  {
   "cell_type": "code",
   "execution_count": 5,
   "id": "3f9cec9f",
   "metadata": {},
   "outputs": [],
   "source": [
    "#Notifying the Boss\n",
    "\n",
    "with open('boss_message.json', 'w') as boss_message:\n",
    "  boss_message_dict = {\n",
    "    'recipient': 'The Boss',\n",
    "    'message': 'Mission Success'\n",
    "  }\n",
    "  json.dump(boss_message_dict, boss_message)"
   ]
  },
  {
   "cell_type": "code",
   "execution_count": 6,
   "id": "e488cfcc",
   "metadata": {},
   "outputs": [],
   "source": [
    "#Scrambling the password and leaving the signature \n",
    "\n",
    "with open('new_passwords.csv', 'w') as new_passwords_obj:\n",
    "  slash_null_sig = \"\"\"\n",
    " _  _     ___   __  ____             \n",
    "/ )( \\   / __) /  \\(_  _)            \n",
    ") \\/ (  ( (_ \\(  O ) )(              \n",
    "\\____/   \\___/ \\__/ (__)             \n",
    " _  _   __    ___  __ _  ____  ____  \n",
    "/ )( \\ / _\\  / __)(  / )(  __)(    \\ \n",
    ") __ (/    \\( (__  )  (  ) _)  ) D ( \n",
    "\\_)(_/\\_/\\_/ \\___)(__\\_)(____)(____/ \n",
    "        ____  __     __   ____  _  _ \n",
    " ___   / ___)(  )   / _\\ / ___)/ )( \\\n",
    "(___)  \\___ \\/ (_/\\/    \\\\___ \\) __ (\n",
    "       (____/\\____/\\_/\\_/(____/\\_)(_/\n",
    " __ _  _  _  __    __                \n",
    "(  ( \\/ )( \\(  )  (  )               \n",
    "/    /) \\/ (/ (_/\\/ (_/\\             \n",
    "\\_)__)\\____/\\____/\\____/\n",
    "\"\"\"\n",
    "  new_passwords_obj.write(slash_null_sig)"
   ]
  }
 ],
 "metadata": {
  "kernelspec": {
   "display_name": "Python 3 (ipykernel)",
   "language": "python",
   "name": "python3"
  },
  "language_info": {
   "codemirror_mode": {
    "name": "ipython",
    "version": 3
   },
   "file_extension": ".py",
   "mimetype": "text/x-python",
   "name": "python",
   "nbconvert_exporter": "python",
   "pygments_lexer": "ipython3",
   "version": "3.11.5"
  }
 },
 "nbformat": 4,
 "nbformat_minor": 5
}
